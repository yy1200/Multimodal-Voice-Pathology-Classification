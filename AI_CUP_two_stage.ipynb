{
 "cells": [
  {
   "cell_type": "markdown",
   "id": "b18949ff-8c42-42e1-be22-db0c3ba04811",
   "metadata": {},
   "source": [
    "## First stage - ACOUSTIC"
   ]
  },
  {
   "cell_type": "code",
   "execution_count": 1,
   "id": "968a2aba-10bb-49b5-b3e9-6d3f4f4ed6a1",
   "metadata": {},
   "outputs": [],
   "source": [
    "#https://zhuanlan.zhihu.com/p/358241055"
   ]
  },
  {
   "cell_type": "code",
   "execution_count": 2,
   "id": "a9c06095-8629-4b39-88bb-b1e9d84b6314",
   "metadata": {},
   "outputs": [],
   "source": [
    "from sklearn.model_selection import train_test_split\n",
    "import pandas as pd"
   ]
  },
  {
   "cell_type": "code",
   "execution_count": 3,
   "id": "c314f2ce-ea23-4f90-b435-1b8b261e6be1",
   "metadata": {},
   "outputs": [],
   "source": [
    "source_df = pd.read_csv('Training Dataset/training datalist.csv')\n",
    "source_df['wav_path'] = source_df['ID'].map(\"Training Dataset/training_voice_data/{}.wav\".format)\n",
    "source_df_train1, source_df_train2 = train_test_split(source_df, test_size = 0.6, random_state = 33)"
   ]
  },
  {
   "cell_type": "code",
   "execution_count": 4,
   "id": "7c9a475d",
   "metadata": {},
   "outputs": [],
   "source": [
    "# Counter(source_df['Disease category'])\n",
    "# Counter({1: 536, 2: 220, 3: 168, 5: 32, 4: 44})"
   ]
  },
  {
   "cell_type": "code",
   "execution_count": 5,
   "id": "1340e91f-5172-413a-a7e8-97f9efbe38de",
   "metadata": {
    "jupyter": {
     "outputs_hidden": true
    },
    "tags": []
   },
   "outputs": [
    {
     "data": {
      "text/html": [
       "<div>\n",
       "<style scoped>\n",
       "    .dataframe tbody tr th:only-of-type {\n",
       "        vertical-align: middle;\n",
       "    }\n",
       "\n",
       "    .dataframe tbody tr th {\n",
       "        vertical-align: top;\n",
       "    }\n",
       "\n",
       "    .dataframe thead th {\n",
       "        text-align: right;\n",
       "    }\n",
       "</style>\n",
       "<table border=\"1\" class=\"dataframe\">\n",
       "  <thead>\n",
       "    <tr style=\"text-align: right;\">\n",
       "      <th></th>\n",
       "      <th>ID</th>\n",
       "      <th>Sex</th>\n",
       "      <th>Age</th>\n",
       "      <th>Disease category</th>\n",
       "      <th>Narrow pitch range</th>\n",
       "      <th>Decreased volume</th>\n",
       "      <th>Fatigue</th>\n",
       "      <th>Dryness</th>\n",
       "      <th>Lumping</th>\n",
       "      <th>heartburn</th>\n",
       "      <th>...</th>\n",
       "      <th>Noise at work</th>\n",
       "      <th>Occupational vocal demand</th>\n",
       "      <th>Diabetes</th>\n",
       "      <th>Hypertension</th>\n",
       "      <th>CAD</th>\n",
       "      <th>Head and Neck Cancer</th>\n",
       "      <th>Head injury</th>\n",
       "      <th>CVA</th>\n",
       "      <th>Voice handicap index - 10</th>\n",
       "      <th>wav_path</th>\n",
       "    </tr>\n",
       "  </thead>\n",
       "  <tbody>\n",
       "    <tr>\n",
       "      <th>129</th>\n",
       "      <td>1100nun</td>\n",
       "      <td>1</td>\n",
       "      <td>31</td>\n",
       "      <td>1</td>\n",
       "      <td>1</td>\n",
       "      <td>0</td>\n",
       "      <td>1</td>\n",
       "      <td>1</td>\n",
       "      <td>0</td>\n",
       "      <td>0</td>\n",
       "      <td>...</td>\n",
       "      <td>3</td>\n",
       "      <td>1</td>\n",
       "      <td>0</td>\n",
       "      <td>0</td>\n",
       "      <td>0</td>\n",
       "      <td>0</td>\n",
       "      <td>0</td>\n",
       "      <td>0</td>\n",
       "      <td>22.0</td>\n",
       "      <td>Training Dataset/training_voice_data/1100nun.wav</td>\n",
       "    </tr>\n",
       "    <tr>\n",
       "      <th>757</th>\n",
       "      <td>0H02j6q</td>\n",
       "      <td>2</td>\n",
       "      <td>51</td>\n",
       "      <td>5</td>\n",
       "      <td>0</td>\n",
       "      <td>0</td>\n",
       "      <td>1</td>\n",
       "      <td>1</td>\n",
       "      <td>1</td>\n",
       "      <td>0</td>\n",
       "      <td>...</td>\n",
       "      <td>1</td>\n",
       "      <td>2</td>\n",
       "      <td>0</td>\n",
       "      <td>0</td>\n",
       "      <td>0</td>\n",
       "      <td>0</td>\n",
       "      <td>0</td>\n",
       "      <td>0</td>\n",
       "      <td>26.0</td>\n",
       "      <td>Training Dataset/training_voice_data/0H02j6q.wav</td>\n",
       "    </tr>\n",
       "    <tr>\n",
       "      <th>770</th>\n",
       "      <td>11024i9</td>\n",
       "      <td>2</td>\n",
       "      <td>31</td>\n",
       "      <td>1</td>\n",
       "      <td>0</td>\n",
       "      <td>0</td>\n",
       "      <td>0</td>\n",
       "      <td>0</td>\n",
       "      <td>0</td>\n",
       "      <td>0</td>\n",
       "      <td>...</td>\n",
       "      <td>1</td>\n",
       "      <td>1</td>\n",
       "      <td>0</td>\n",
       "      <td>0</td>\n",
       "      <td>0</td>\n",
       "      <td>0</td>\n",
       "      <td>0</td>\n",
       "      <td>0</td>\n",
       "      <td>14.0</td>\n",
       "      <td>Training Dataset/training_voice_data/11024i9.wav</td>\n",
       "    </tr>\n",
       "    <tr>\n",
       "      <th>198</th>\n",
       "      <td>110223m</td>\n",
       "      <td>2</td>\n",
       "      <td>39</td>\n",
       "      <td>1</td>\n",
       "      <td>1</td>\n",
       "      <td>0</td>\n",
       "      <td>0</td>\n",
       "      <td>1</td>\n",
       "      <td>0</td>\n",
       "      <td>0</td>\n",
       "      <td>...</td>\n",
       "      <td>2</td>\n",
       "      <td>1</td>\n",
       "      <td>0</td>\n",
       "      <td>0</td>\n",
       "      <td>0</td>\n",
       "      <td>0</td>\n",
       "      <td>0</td>\n",
       "      <td>0</td>\n",
       "      <td>23.0</td>\n",
       "      <td>Training Dataset/training_voice_data/110223m.wav</td>\n",
       "    </tr>\n",
       "    <tr>\n",
       "      <th>610</th>\n",
       "      <td>0702nct</td>\n",
       "      <td>1</td>\n",
       "      <td>59</td>\n",
       "      <td>3</td>\n",
       "      <td>0</td>\n",
       "      <td>0</td>\n",
       "      <td>0</td>\n",
       "      <td>0</td>\n",
       "      <td>0</td>\n",
       "      <td>0</td>\n",
       "      <td>...</td>\n",
       "      <td>1</td>\n",
       "      <td>1</td>\n",
       "      <td>0</td>\n",
       "      <td>0</td>\n",
       "      <td>0</td>\n",
       "      <td>1</td>\n",
       "      <td>0</td>\n",
       "      <td>0</td>\n",
       "      <td>0.0</td>\n",
       "      <td>Training Dataset/training_voice_data/0702nct.wav</td>\n",
       "    </tr>\n",
       "    <tr>\n",
       "      <th>...</th>\n",
       "      <td>...</td>\n",
       "      <td>...</td>\n",
       "      <td>...</td>\n",
       "      <td>...</td>\n",
       "      <td>...</td>\n",
       "      <td>...</td>\n",
       "      <td>...</td>\n",
       "      <td>...</td>\n",
       "      <td>...</td>\n",
       "      <td>...</td>\n",
       "      <td>...</td>\n",
       "      <td>...</td>\n",
       "      <td>...</td>\n",
       "      <td>...</td>\n",
       "      <td>...</td>\n",
       "      <td>...</td>\n",
       "      <td>...</td>\n",
       "      <td>...</td>\n",
       "      <td>...</td>\n",
       "      <td>...</td>\n",
       "      <td>...</td>\n",
       "    </tr>\n",
       "    <tr>\n",
       "      <th>658</th>\n",
       "      <td>0M017jq</td>\n",
       "      <td>2</td>\n",
       "      <td>40</td>\n",
       "      <td>3</td>\n",
       "      <td>1</td>\n",
       "      <td>1</td>\n",
       "      <td>0</td>\n",
       "      <td>0</td>\n",
       "      <td>0</td>\n",
       "      <td>0</td>\n",
       "      <td>...</td>\n",
       "      <td>2</td>\n",
       "      <td>1</td>\n",
       "      <td>0</td>\n",
       "      <td>0</td>\n",
       "      <td>0</td>\n",
       "      <td>0</td>\n",
       "      <td>0</td>\n",
       "      <td>0</td>\n",
       "      <td>38.0</td>\n",
       "      <td>Training Dataset/training_voice_data/0M017jq.wav</td>\n",
       "    </tr>\n",
       "    <tr>\n",
       "      <th>578</th>\n",
       "      <td>0002m5r</td>\n",
       "      <td>1</td>\n",
       "      <td>76</td>\n",
       "      <td>2</td>\n",
       "      <td>1</td>\n",
       "      <td>1</td>\n",
       "      <td>1</td>\n",
       "      <td>0</td>\n",
       "      <td>0</td>\n",
       "      <td>0</td>\n",
       "      <td>...</td>\n",
       "      <td>1</td>\n",
       "      <td>4</td>\n",
       "      <td>0</td>\n",
       "      <td>1</td>\n",
       "      <td>1</td>\n",
       "      <td>0</td>\n",
       "      <td>0</td>\n",
       "      <td>0</td>\n",
       "      <td>29.0</td>\n",
       "      <td>Training Dataset/training_voice_data/0002m5r.wav</td>\n",
       "    </tr>\n",
       "    <tr>\n",
       "      <th>728</th>\n",
       "      <td>1001vhk</td>\n",
       "      <td>1</td>\n",
       "      <td>37</td>\n",
       "      <td>1</td>\n",
       "      <td>1</td>\n",
       "      <td>0</td>\n",
       "      <td>1</td>\n",
       "      <td>1</td>\n",
       "      <td>0</td>\n",
       "      <td>0</td>\n",
       "      <td>...</td>\n",
       "      <td>2</td>\n",
       "      <td>1</td>\n",
       "      <td>0</td>\n",
       "      <td>0</td>\n",
       "      <td>0</td>\n",
       "      <td>0</td>\n",
       "      <td>0</td>\n",
       "      <td>0</td>\n",
       "      <td>14.0</td>\n",
       "      <td>Training Dataset/training_voice_data/1001vhk.wav</td>\n",
       "    </tr>\n",
       "    <tr>\n",
       "      <th>391</th>\n",
       "      <td>120200g</td>\n",
       "      <td>2</td>\n",
       "      <td>50</td>\n",
       "      <td>1</td>\n",
       "      <td>0</td>\n",
       "      <td>0</td>\n",
       "      <td>1</td>\n",
       "      <td>1</td>\n",
       "      <td>1</td>\n",
       "      <td>0</td>\n",
       "      <td>...</td>\n",
       "      <td>1</td>\n",
       "      <td>1</td>\n",
       "      <td>0</td>\n",
       "      <td>0</td>\n",
       "      <td>0</td>\n",
       "      <td>0</td>\n",
       "      <td>0</td>\n",
       "      <td>0</td>\n",
       "      <td>22.0</td>\n",
       "      <td>Training Dataset/training_voice_data/120200g.wav</td>\n",
       "    </tr>\n",
       "    <tr>\n",
       "      <th>20</th>\n",
       "      <td>0T01uvq</td>\n",
       "      <td>1</td>\n",
       "      <td>56</td>\n",
       "      <td>3</td>\n",
       "      <td>1</td>\n",
       "      <td>1</td>\n",
       "      <td>1</td>\n",
       "      <td>0</td>\n",
       "      <td>1</td>\n",
       "      <td>0</td>\n",
       "      <td>...</td>\n",
       "      <td>1</td>\n",
       "      <td>3</td>\n",
       "      <td>0</td>\n",
       "      <td>0</td>\n",
       "      <td>0</td>\n",
       "      <td>0</td>\n",
       "      <td>0</td>\n",
       "      <td>0</td>\n",
       "      <td>29.0</td>\n",
       "      <td>Training Dataset/training_voice_data/0T01uvq.wav</td>\n",
       "    </tr>\n",
       "  </tbody>\n",
       "</table>\n",
       "<p>400 rows × 29 columns</p>\n",
       "</div>"
      ],
      "text/plain": [
       "          ID  Sex  Age  Disease category  Narrow pitch range  \\\n",
       "129  1100nun    1   31                 1                   1   \n",
       "757  0H02j6q    2   51                 5                   0   \n",
       "770  11024i9    2   31                 1                   0   \n",
       "198  110223m    2   39                 1                   1   \n",
       "610  0702nct    1   59                 3                   0   \n",
       "..       ...  ...  ...               ...                 ...   \n",
       "658  0M017jq    2   40                 3                   1   \n",
       "578  0002m5r    1   76                 2                   1   \n",
       "728  1001vhk    1   37                 1                   1   \n",
       "391  120200g    2   50                 1                   0   \n",
       "20   0T01uvq    1   56                 3                   1   \n",
       "\n",
       "     Decreased volume  Fatigue  Dryness  Lumping  heartburn  ...  \\\n",
       "129                 0        1        1        0          0  ...   \n",
       "757                 0        1        1        1          0  ...   \n",
       "770                 0        0        0        0          0  ...   \n",
       "198                 0        0        1        0          0  ...   \n",
       "610                 0        0        0        0          0  ...   \n",
       "..                ...      ...      ...      ...        ...  ...   \n",
       "658                 1        0        0        0          0  ...   \n",
       "578                 1        1        0        0          0  ...   \n",
       "728                 0        1        1        0          0  ...   \n",
       "391                 0        1        1        1          0  ...   \n",
       "20                  1        1        0        1          0  ...   \n",
       "\n",
       "     Noise at work  Occupational vocal demand  Diabetes  Hypertension  CAD  \\\n",
       "129              3                          1         0             0    0   \n",
       "757              1                          2         0             0    0   \n",
       "770              1                          1         0             0    0   \n",
       "198              2                          1         0             0    0   \n",
       "610              1                          1         0             0    0   \n",
       "..             ...                        ...       ...           ...  ...   \n",
       "658              2                          1         0             0    0   \n",
       "578              1                          4         0             1    1   \n",
       "728              2                          1         0             0    0   \n",
       "391              1                          1         0             0    0   \n",
       "20               1                          3         0             0    0   \n",
       "\n",
       "     Head and Neck Cancer  Head injury  CVA  Voice handicap index - 10  \\\n",
       "129                     0            0    0                       22.0   \n",
       "757                     0            0    0                       26.0   \n",
       "770                     0            0    0                       14.0   \n",
       "198                     0            0    0                       23.0   \n",
       "610                     1            0    0                        0.0   \n",
       "..                    ...          ...  ...                        ...   \n",
       "658                     0            0    0                       38.0   \n",
       "578                     0            0    0                       29.0   \n",
       "728                     0            0    0                       14.0   \n",
       "391                     0            0    0                       22.0   \n",
       "20                      0            0    0                       29.0   \n",
       "\n",
       "                                             wav_path  \n",
       "129  Training Dataset/training_voice_data/1100nun.wav  \n",
       "757  Training Dataset/training_voice_data/0H02j6q.wav  \n",
       "770  Training Dataset/training_voice_data/11024i9.wav  \n",
       "198  Training Dataset/training_voice_data/110223m.wav  \n",
       "610  Training Dataset/training_voice_data/0702nct.wav  \n",
       "..                                                ...  \n",
       "658  Training Dataset/training_voice_data/0M017jq.wav  \n",
       "578  Training Dataset/training_voice_data/0002m5r.wav  \n",
       "728  Training Dataset/training_voice_data/1001vhk.wav  \n",
       "391  Training Dataset/training_voice_data/120200g.wav  \n",
       "20   Training Dataset/training_voice_data/0T01uvq.wav  \n",
       "\n",
       "[400 rows x 29 columns]"
      ]
     },
     "execution_count": 5,
     "metadata": {},
     "output_type": "execute_result"
    }
   ],
   "source": [
    "source_df_train1"
   ]
  },
  {
   "cell_type": "code",
   "execution_count": 6,
   "id": "9f56ad2a-8d25-4178-b211-a6d3ed1addaa",
   "metadata": {
    "tags": []
   },
   "outputs": [],
   "source": [
    "# 讀取訓練資料集表單\n",
    "df = source_df_train1[['Disease category', 'wav_path']]\n",
    "df = df.reset_index()"
   ]
  },
  {
   "cell_type": "code",
   "execution_count": 7,
   "id": "c313ce36-dfb6-4096-b679-b2caaafceee3",
   "metadata": {},
   "outputs": [],
   "source": [
    "import math, random\n",
    "import torch\n",
    "import torchaudio\n",
    "from torchaudio import transforms\n",
    "from IPython.display import Audio\n",
    "\n",
    "class AudioUtil():\n",
    "    def open(audio_file):\n",
    "        sig, sr = torchaudio.load(audio_file)\n",
    "        return (sig, sr)\n",
    "\n",
    "    def rechannel(aud, new_channel):\n",
    "        sig, sr = aud\n",
    "\n",
    "        if (sig.shape[0] == new_channel):\n",
    "          # Nothing to do\n",
    "          return aud\n",
    "\n",
    "        if (new_channel == 1):\n",
    "          # Convert from stereo to mono by selecting only the first channel\n",
    "          resig = sig[:1, :]\n",
    "        else:\n",
    "          # Convert from mono to stereo by duplicating the first channel\n",
    "          resig = torch.cat([sig, sig])\n",
    "\n",
    "        return ((resig, sr))\n",
    "    \n",
    "    def resample(aud, newsr):\n",
    "        sig, sr = aud\n",
    "\n",
    "        if (sr == newsr):\n",
    "          # Nothing to do\n",
    "          return aud\n",
    "\n",
    "        num_channels = sig.shape[0]\n",
    "        # Resample first channel\n",
    "        resig = torchaudio.transforms.Resample(sr, newsr)(sig[:1,:])\n",
    "        if (num_channels > 1):\n",
    "          # Resample the second channel and merge both channels\n",
    "            retwo = torchaudio.transforms.Resample(sr, newsr)(sig[1:,:])\n",
    "            resig = torch.cat([resig, retwo])\n",
    "\n",
    "        return ((resig, newsr))\n",
    "    def pad_trunc(aud, max_ms):\n",
    "        sig, sr = aud\n",
    "        num_rows, sig_len = sig.shape\n",
    "        max_len = sr//1000 * max_ms\n",
    "\n",
    "        if (sig_len > max_len):\n",
    "          # Truncate the signal to the given length\n",
    "            sig = sig[:,:max_len]\n",
    "\n",
    "        elif (sig_len < max_len):\n",
    "            # Length of padding to add at the beginning and end of the signal\n",
    "            pad_begin_len = random.randint(0, max_len - sig_len)\n",
    "            pad_end_len = max_len - sig_len - pad_begin_len\n",
    "\n",
    "            # Pad with 0s\n",
    "            pad_begin = torch.zeros((num_rows, pad_begin_len))\n",
    "            pad_end = torch.zeros((num_rows, pad_end_len))\n",
    "\n",
    "            sig = torch.cat((pad_begin, sig, pad_end), 1)\n",
    "\n",
    "        return (sig, sr)\n",
    "    \n",
    "    def time_shift(aud, shift_limit):\n",
    "        sig,sr = aud\n",
    "        _, sig_len = sig.shape\n",
    "        shift_amt = int(random.random() * shift_limit * sig_len)\n",
    "        return (sig.roll(shift_amt), sr)\n",
    "    def spectro_gram(aud, n_mels=64, n_fft=1024, hop_len=None):\n",
    "        sig,sr = aud\n",
    "        top_db = 80\n",
    "\n",
    "        # spec has shape [channel, n_mels, time], where channel is mono, stereo etc\n",
    "        spec = transforms.MelSpectrogram(sr, n_fft=n_fft, hop_length=hop_len, n_mels=n_mels)(sig)\n",
    "\n",
    "        # Convert to decibels\n",
    "        spec = transforms.AmplitudeToDB(top_db=top_db)(spec)\n",
    "        return (spec)\n",
    "    def spectro_augment(spec, max_mask_pct=0.1, n_freq_masks=1, n_time_masks=1):\n",
    "        _, n_mels, n_steps = spec.shape\n",
    "        mask_value = spec.mean()\n",
    "        aug_spec = spec\n",
    "\n",
    "        freq_mask_param = max_mask_pct * n_mels\n",
    "        for _ in range(n_freq_masks):\n",
    "            aug_spec = transforms.FrequencyMasking(freq_mask_param)(aug_spec, mask_value)\n",
    "\n",
    "        time_mask_param = max_mask_pct * n_steps\n",
    "        for _ in range(n_time_masks):\n",
    "            aug_spec = transforms.TimeMasking(time_mask_param)(aug_spec, mask_value)\n",
    "\n",
    "        return aug_spec"
   ]
  },
  {
   "cell_type": "code",
   "execution_count": 8,
   "id": "e3b6b93a-404b-4616-9b0f-2cd93865dbf6",
   "metadata": {},
   "outputs": [],
   "source": [
    "from torch.utils.data import DataLoader, Dataset, random_split\n",
    "import torchaudio\n",
    "\n",
    "# ----------------------------\n",
    "# Sound Dataset\n",
    "# ----------------------------\n",
    "class SoundDS(Dataset):\n",
    "    def __init__(self, df, data_path, mode = 'train'):\n",
    "        self.df = df\n",
    "        self.data_path = str(data_path)\n",
    "        self.duration = 4000\n",
    "        self.sr = 44100\n",
    "        self.channel = 2\n",
    "        self.shift_pct = 0.4\n",
    "        self.mode = mode\n",
    "\n",
    "        # ----------------------------\n",
    "        # Number of items in dataset\n",
    "        # ----------------------------\n",
    "    def __len__(self):\n",
    "        return len(self.df)    \n",
    "\n",
    "    # ----------------------------\n",
    "    # Get i'th item in dataset\n",
    "    # ----------------------------\n",
    "    def __getitem__(self, idx):\n",
    "    # Absolute file path of the audio file - concatenate the audio directory with\n",
    "    # the relative path\n",
    "        if self.mode == 'train':\n",
    "            audio_file = self.data_path + self.df.loc[idx, 'wav_path']\n",
    "            # Get the Class ID\n",
    "            class_id = self.df.loc[idx, 'Disease category']\n",
    "\n",
    "            aud = AudioUtil.open(audio_file)\n",
    "            # Some sounds have a higher sample rate, or fewer channels compared to the\n",
    "            # majority. So make all sounds have the same number of channels and same \n",
    "            # sample rate. Unless the sample rate is the same, the pad_trunc will still\n",
    "            # result in arrays of different lengths, even though the sound duration is\n",
    "            # the same.\n",
    "            reaud = AudioUtil.resample(aud, self.sr)\n",
    "            rechan = AudioUtil.rechannel(reaud, self.channel)\n",
    "\n",
    "            dur_aud = AudioUtil.pad_trunc(rechan, self.duration)\n",
    "            shift_aud = AudioUtil.time_shift(dur_aud, self.shift_pct)\n",
    "            sgram = AudioUtil.spectro_gram(shift_aud, n_mels=64, n_fft=1024, hop_len=None)\n",
    "            aug_sgram = AudioUtil.spectro_augment(sgram, max_mask_pct=0.1, n_freq_masks=2, n_time_masks=2)\n",
    "\n",
    "            return aug_sgram, class_id\n",
    "        else:\n",
    "            audio_file = self.data_path + self.df.loc[idx, 'wav_path']\n",
    "            aud = AudioUtil.open(audio_file)\n",
    "            reaud = AudioUtil.resample(aud, self.sr)\n",
    "            rechan = AudioUtil.rechannel(reaud, self.channel)\n",
    "\n",
    "            dur_aud = AudioUtil.pad_trunc(rechan, self.duration)\n",
    "            shift_aud = AudioUtil.time_shift(dur_aud, self.shift_pct)\n",
    "            sgram = AudioUtil.spectro_gram(shift_aud, n_mels=64, n_fft=1024, hop_len=None)\n",
    "            aug_sgram = AudioUtil.spectro_augment(sgram, max_mask_pct=0.1, n_freq_masks=2, n_time_masks=2)\n",
    "\n",
    "            return aug_sgram"
   ]
  },
  {
   "cell_type": "code",
   "execution_count": 9,
   "id": "79ddbb2e-4f97-4f23-a06c-534fc3fb9a53",
   "metadata": {},
   "outputs": [],
   "source": [
    "from torch.utils.data import random_split\n",
    "data_path = ''\n",
    "myds = SoundDS(df, data_path)\n",
    "\n",
    "# Random split of 80:20 between training and validation\n",
    "num_items = len(myds)\n",
    "num_train = round(num_items * 0.8)\n",
    "num_val = num_items - num_train\n",
    "train_ds, val_ds = random_split(myds, [num_train, num_val])\n",
    "\n",
    "# Create training and validation data loaders\n",
    "train_dl = torch.utils.data.DataLoader(train_ds, batch_size=16, shuffle=True)\n",
    "val_dl = torch.utils.data.DataLoader(val_ds, batch_size=16, shuffle=False)"
   ]
  },
  {
   "cell_type": "code",
   "execution_count": 10,
   "id": "9af2af2f-d155-478c-9934-169e8597097a",
   "metadata": {
    "tags": []
   },
   "outputs": [],
   "source": [
    "import torch.nn.functional as F\n",
    "import torch.nn as nn\n",
    "from torch.nn import init\n",
    "\n",
    "# ----------------------------\n",
    "# Audio Classification Model\n",
    "# ----------------------------\n",
    "class AudioClassifier (nn.Module):\n",
    "    # ----------------------------\n",
    "    # Build the model architecture\n",
    "    # ----------------------------\n",
    "    def __init__(self):\n",
    "        super().__init__()\n",
    "        conv_layers = []\n",
    "\n",
    "        # First Convolution Block with Relu and Batch Norm. Use Kaiming Initialization\n",
    "        self.conv1 = nn.Conv2d(2, 8, kernel_size=(5, 5), stride=(2, 2), padding=(2, 2))\n",
    "        self.relu1 = nn.ReLU()\n",
    "        self.bn1 = nn.BatchNorm2d(8)\n",
    "        init.kaiming_normal_(self.conv1.weight, a=0.1)\n",
    "        self.conv1.bias.data.zero_()\n",
    "        conv_layers += [self.conv1, self.relu1, self.bn1]\n",
    "\n",
    "        # Second Convolution Block\n",
    "        self.conv2 = nn.Conv2d(8, 16, kernel_size=(3, 3), stride=(2, 2), padding=(1, 1))\n",
    "        self.relu2 = nn.ReLU()\n",
    "        self.bn2 = nn.BatchNorm2d(16)\n",
    "        init.kaiming_normal_(self.conv2.weight, a=0.1)\n",
    "        self.conv2.bias.data.zero_()\n",
    "        conv_layers += [self.conv2, self.relu2, self.bn2]\n",
    "\n",
    "        # Second Convolution Block\n",
    "        self.conv3 = nn.Conv2d(16, 32, kernel_size=(3, 3), stride=(2, 2), padding=(1, 1))\n",
    "        self.relu3 = nn.ReLU()\n",
    "        self.bn3 = nn.BatchNorm2d(32)\n",
    "        init.kaiming_normal_(self.conv3.weight, a=0.1)\n",
    "        self.conv3.bias.data.zero_()\n",
    "        conv_layers += [self.conv3, self.relu3, self.bn3]\n",
    "\n",
    "        # Second Convolution Block\n",
    "        self.conv4 = nn.Conv2d(32, 64, kernel_size=(3, 3), stride=(2, 2), padding=(1, 1))\n",
    "        self.relu4 = nn.ReLU()\n",
    "        self.bn4 = nn.BatchNorm2d(64)\n",
    "        init.kaiming_normal_(self.conv4.weight, a=0.1)\n",
    "        self.conv4.bias.data.zero_()\n",
    "        conv_layers += [self.conv4, self.relu4, self.bn4]\n",
    "\n",
    "        # Linear Classifier\n",
    "        self.ap = nn.AdaptiveAvgPool2d(output_size=1)\n",
    "        self.lin = nn.Linear(in_features=64, out_features=10)\n",
    "\n",
    "        # Wrap the Convolutional Blocks\n",
    "        self.conv = nn.Sequential(*conv_layers)\n",
    " \n",
    "    # ----------------------------\n",
    "    # Forward pass computations\n",
    "    # ----------------------------\n",
    "    def forward(self, x):\n",
    "        # Run the convolutional blocks\n",
    "        x = self.conv(x)\n",
    "        # Adaptive pool and flatten for input to linear layer\n",
    "        x = self.ap(x)\n",
    "        x = x.view(x.shape[0], -1)\n",
    "        # Linear layer\n",
    "        x = self.lin(x)\n",
    "        # Final output\n",
    "        return x\n",
    "\n",
    "# Create the model and put it on the GPU if available\n",
    "myModel = AudioClassifier()\n",
    "# Check that it is on Cuda\n",
    "# next(myModel.parameters())"
   ]
  },
  {
   "cell_type": "code",
   "execution_count": 11,
   "id": "49c3824f-75a0-4d02-8b79-b25627773bbc",
   "metadata": {
    "tags": []
   },
   "outputs": [],
   "source": [
    "# ----------------------------\n",
    "# Training Loop\n",
    "# ----------------------------\n",
    "def training(model, train_dl, num_epochs):\n",
    "    criterion = nn.CrossEntropyLoss()\n",
    "    optimizer = torch.optim.Adam(model.parameters(),lr=0.0035)\n",
    "    scheduler = torch.optim.lr_scheduler.OneCycleLR(optimizer, max_lr=0.001,\n",
    "                                                steps_per_epoch=int(len(train_dl)),\n",
    "                                                epochs=num_epochs,\n",
    "                                                anneal_strategy='linear')\n",
    "    best_result = 0\n",
    "    stopping_step = 0\n",
    "    early_stopping_patience = 15\n",
    "    \n",
    "    # Repeat for each epoch\n",
    "    for epoch in range(num_epochs):\n",
    "        running_loss = 0.0\n",
    "        correct_prediction = 0\n",
    "        total_prediction = 0\n",
    "\n",
    "        for i, data in enumerate(train_dl):\n",
    "            # Get the input features and target labels, and put them on the GPU\n",
    "            inputs, labels = data[0], data[1]\n",
    "            # print(inputs)\n",
    "\n",
    "            # Normalize the inputs\n",
    "            inputs_m, inputs_s = inputs.mean(), inputs.std()\n",
    "            inputs = (inputs - inputs_m) / inputs_s\n",
    "\n",
    "            # Zero the parameter gradients\n",
    "            optimizer.zero_grad()\n",
    "\n",
    "            # forward + backward + optimize\n",
    "            outputs = model(inputs)\n",
    "            loss = criterion(outputs, labels)\n",
    "            loss.backward()\n",
    "            optimizer.step()\n",
    "            scheduler.step()\n",
    "\n",
    "            # Keep stats for Loss and Accuracy\n",
    "            running_loss += loss.item()\n",
    "\n",
    "            # Get the predicted class with the highest score\n",
    "            _, prediction = torch.max(outputs,1)\n",
    "            # print(prediction)\n",
    "            # Count of predictions that matched the target label\n",
    "            correct_prediction += (prediction == labels).sum().item()\n",
    "            total_prediction += prediction.shape[0]\n",
    "\n",
    "        num_batches = len(train_dl)\n",
    "        avg_loss = running_loss / num_batches\n",
    "        acc = correct_prediction/total_prediction\n",
    "        \n",
    "        if acc > best_result:\n",
    "            best_result = acc\n",
    "            stopping_step = 0\n",
    "        else:\n",
    "            stopping_step += 1\n",
    "            if stopping_step >= early_stopping_patience:\n",
    "                print('Early stopping triggered.')\n",
    "                break\n",
    "                \n",
    "        print(f'Epoch: {epoch}, Loss: {avg_loss:.2f}, Accuracy: {acc:.2f}')\n",
    "    print('Finished Training')"
   ]
  },
  {
   "cell_type": "code",
   "execution_count": 12,
   "id": "8dfc3241-bdc1-4313-87d0-bbbff27bf191",
   "metadata": {
    "scrolled": true
   },
   "outputs": [
    {
     "name": "stdout",
     "output_type": "stream",
     "text": [
      "Epoch: 0, Loss: 2.31, Accuracy: 0.06\n",
      "Epoch: 1, Loss: 2.29, Accuracy: 0.12\n",
      "Epoch: 2, Loss: 2.25, Accuracy: 0.24\n",
      "Epoch: 3, Loss: 2.21, Accuracy: 0.32\n",
      "Epoch: 4, Loss: 2.15, Accuracy: 0.42\n",
      "Epoch: 5, Loss: 2.08, Accuracy: 0.45\n",
      "Epoch: 6, Loss: 2.01, Accuracy: 0.46\n",
      "Epoch: 7, Loss: 1.91, Accuracy: 0.49\n",
      "Epoch: 8, Loss: 1.76, Accuracy: 0.52\n",
      "Epoch: 9, Loss: 1.60, Accuracy: 0.56\n",
      "Epoch: 10, Loss: 1.45, Accuracy: 0.55\n",
      "Epoch: 11, Loss: 1.31, Accuracy: 0.55\n",
      "Epoch: 12, Loss: 1.21, Accuracy: 0.55\n",
      "Epoch: 13, Loss: 1.15, Accuracy: 0.58\n",
      "Epoch: 14, Loss: 1.13, Accuracy: 0.60\n",
      "Epoch: 15, Loss: 1.06, Accuracy: 0.60\n",
      "Epoch: 16, Loss: 1.05, Accuracy: 0.60\n",
      "Epoch: 17, Loss: 1.03, Accuracy: 0.61\n",
      "Epoch: 18, Loss: 1.01, Accuracy: 0.60\n",
      "Epoch: 19, Loss: 1.00, Accuracy: 0.62\n",
      "Epoch: 20, Loss: 1.01, Accuracy: 0.62\n",
      "Epoch: 21, Loss: 1.03, Accuracy: 0.59\n",
      "Epoch: 22, Loss: 0.97, Accuracy: 0.62\n",
      "Epoch: 23, Loss: 0.96, Accuracy: 0.62\n",
      "Epoch: 24, Loss: 0.96, Accuracy: 0.63\n",
      "Epoch: 25, Loss: 0.95, Accuracy: 0.66\n",
      "Epoch: 26, Loss: 0.95, Accuracy: 0.60\n",
      "Epoch: 27, Loss: 0.93, Accuracy: 0.64\n",
      "Epoch: 28, Loss: 0.93, Accuracy: 0.63\n",
      "Epoch: 29, Loss: 0.90, Accuracy: 0.64\n",
      "Epoch: 30, Loss: 0.92, Accuracy: 0.64\n",
      "Epoch: 31, Loss: 0.89, Accuracy: 0.65\n",
      "Epoch: 32, Loss: 0.89, Accuracy: 0.64\n",
      "Epoch: 33, Loss: 0.93, Accuracy: 0.63\n",
      "Epoch: 34, Loss: 0.88, Accuracy: 0.65\n",
      "Epoch: 35, Loss: 0.92, Accuracy: 0.62\n",
      "Epoch: 36, Loss: 0.92, Accuracy: 0.64\n",
      "Epoch: 37, Loss: 0.92, Accuracy: 0.66\n",
      "Epoch: 38, Loss: 0.87, Accuracy: 0.66\n",
      "Epoch: 39, Loss: 0.87, Accuracy: 0.68\n",
      "Finished Training\n"
     ]
    }
   ],
   "source": [
    "num_epochs=40   # Just for demo, adjust this higher.\n",
    "training(myModel, train_dl, num_epochs)"
   ]
  },
  {
   "cell_type": "code",
   "execution_count": 13,
   "id": "13891a79-586a-40b7-9c16-9c9437155b25",
   "metadata": {
    "tags": []
   },
   "outputs": [],
   "source": [
    "import numpy as np\n",
    "def inference (model, val_dl, mode = 'train_test'): \n",
    "    correct_prediction = 0 \n",
    "    total_prediction = 0 \n",
    "    ls = []\n",
    "    # Disable gradient updates \n",
    "    with torch.no_grad(): \n",
    "        for data in val_dl: \n",
    "            # Get the input features and target labels, and put them on the GPU \n",
    "            inputs, labels = data[0], data[1]\n",
    "            l = labels.tolist()\n",
    "\n",
    "            # Normalize the inputs \n",
    "            inputs_m, inputs_s = inputs.mean(), inputs.std() \n",
    "            inputs = (inputs - inputs_m) / inputs_s \n",
    "\n",
    "            # Get predictions \n",
    "            # print(inputs)\n",
    "            outputs = model(inputs) \n",
    "\n",
    "            # Get the predicted class with the highest score \n",
    "            _, prediction = torch.max(outputs,1) \n",
    "            p = prediction.tolist()\n",
    "            if mode == 'train_test':\n",
    "                correct_prediction += (prediction == labels).sum().item() \n",
    "                total_prediction += prediction.shape[0] \n",
    "                acc = correct_prediction/total_prediction \n",
    "                print(f'Accuracy: {acc:.2f}, Total items: {total_prediction}') \n",
    "            else:\n",
    "                ls.append(prediction)\n",
    "                return ls\n",
    "    # Run inference on trained model with the validation set "
   ]
  },
  {
   "cell_type": "code",
   "execution_count": 14,
   "id": "6fc79659-ed91-4d67-b401-2f258d563d87",
   "metadata": {
    "tags": []
   },
   "outputs": [
    {
     "name": "stdout",
     "output_type": "stream",
     "text": [
      "Accuracy: 0.56, Total items: 16\n",
      "Accuracy: 0.53, Total items: 32\n",
      "Accuracy: 0.60, Total items: 48\n",
      "Accuracy: 0.53, Total items: 64\n",
      "Accuracy: 0.54, Total items: 80\n"
     ]
    }
   ],
   "source": [
    "inference(myModel, val_dl)"
   ]
  },
  {
   "cell_type": "markdown",
   "id": "f9be6ae1-bf20-4a31-a0aa-2e8d304ee3e7",
   "metadata": {},
   "source": [
    "## XGboost - MEDICAL"
   ]
  },
  {
   "cell_type": "code",
   "execution_count": 15,
   "id": "5b56f0a2-eddb-4492-a2ee-ef60e39a1525",
   "metadata": {},
   "outputs": [],
   "source": [
    "from sklearn.model_selection import train_test_split\n",
    "from sklearn.metrics import confusion_matrix, ConfusionMatrixDisplay, recall_score\n",
    "from sklearn.utils import shuffle"
   ]
  },
  {
   "cell_type": "code",
   "execution_count": 16,
   "id": "50697781-ac3b-4039-ac28-acf53acb464c",
   "metadata": {},
   "outputs": [],
   "source": [
    "#https://ithelp.ithome.com.tw/articles/10273094\n",
    "from xgboost import XGBClassifier\n",
    "xgboostModel = XGBClassifier() #n_estimators=35, learning_rate= 0.25"
   ]
  },
  {
   "cell_type": "code",
   "execution_count": 17,
   "id": "7939d419-e07b-42bd-bed4-4e4245e71942",
   "metadata": {},
   "outputs": [],
   "source": [
    "df2 = source_df_train1\n",
    "col = [i for i in df2.columns if i not in ['ID','Disease category', 'wav_path']]\n",
    "\n",
    "x = df2[col]\n",
    "y = df2[['Disease category']]-1\n",
    "x_train, x_test, y_train, y_test = train_test_split(x,y,test_size = 0.2, random_state = 33)"
   ]
  },
  {
   "cell_type": "code",
   "execution_count": 18,
   "id": "21cbf0cb",
   "metadata": {},
   "outputs": [
    {
     "name": "stdout",
     "output_type": "stream",
     "text": [
      "Fitting 5 folds for each of 100 candidates, totalling 500 fits\n"
     ]
    }
   ],
   "source": [
    "from sklearn.model_selection import RandomizedSearchCV\n",
    "n_estimators = [int(x) for x in np.linspace(start=20, stop=100, num=10)]\n",
    "max_depth = [int(x) for x in np.linspace(4, 20, num=7)]\n",
    "max_depth.append(None)\n",
    "learning_rate=[round(float(x),2) for x in np.linspace(start=0.05, stop=0.35, num=10)]\n",
    "colsample_bytree =[round(float(x),2) for x in np.linspace(start=0.1, stop=1, num=10)]\n",
    "\n",
    "random_grid = {'n_estimators': n_estimators,\n",
    "               'max_depth': max_depth,\n",
    "               'learning_rate': learning_rate,\n",
    "               'colsample_bytree': colsample_bytree}\n",
    "xg_random = RandomizedSearchCV(estimator = xgboostModel, param_distributions=random_grid,\n",
    "                              n_iter=100, cv=5, verbose=2, random_state=42, n_jobs=-1)\n",
    "\n",
    "xg_random.fit(x_train,y_train)\n",
    "xg_random.best_params_ \n",
    "\n",
    "from sklearn.utils.class_weight import compute_sample_weight\n",
    "sample_weight = compute_sample_weight(class_weight='balanced', y=y_train)\n",
    "xgboostModel = xg_random.best_estimator_\n",
    "med_model = xgboostModel.fit(x_train, y_train, sample_weight = sample_weight)"
   ]
  },
  {
   "cell_type": "code",
   "execution_count": 19,
   "id": "78d82e85-1d1a-4688-a1c9-33757d1254d6",
   "metadata": {
    "tags": []
   },
   "outputs": [],
   "source": [
    "from sklearn.utils.class_weight import compute_sample_weight\n",
    "# sample_weight = compute_sample_weight(class_weight='balanced', y=y_train)\n",
    "# med_model = xgboostModel.fit(x_train, y_train, sample_weight = sample_weight)"
   ]
  },
  {
   "cell_type": "code",
   "execution_count": 20,
   "id": "58610471-2426-4ad2-b9a7-aff373c01fcd",
   "metadata": {
    "tags": []
   },
   "outputs": [
    {
     "name": "stdout",
     "output_type": "stream",
     "text": [
      "train:  0.925\n",
      "test:  0.525\n"
     ]
    },
    {
     "data": {
      "text/plain": [
       "<sklearn.metrics._plot.confusion_matrix.ConfusionMatrixDisplay at 0x1f0d1759850>"
      ]
     },
     "execution_count": 20,
     "metadata": {},
     "output_type": "execute_result"
    },
    {
     "data": {
      "image/png": "[encoded data removed]",
      "text/plain": [
       "<Figure size 640x480 with 2 Axes>"
      ]
     },
     "metadata": {},
     "output_type": "display_data"
    },
    {
     "data": {
      "image/png": "[encoded data removed]",
      "text/plain": [
       "<Figure size 640x480 with 2 Axes>"
      ]
     },
     "metadata": {},
     "output_type": "display_data"
    }
   ],
   "source": [
    "print('train: ',med_model.score(x_train, y_train))\n",
    "pred = med_model.predict(x_train)\n",
    "ConfusionMatrixDisplay(confusion_matrix(y_train, pred)).plot(cmap='Blues')\n",
    "\n",
    "print('test: ',med_model.score(x_test, y_test))\n",
    "pred = med_model.predict(x_test)\n",
    "ConfusionMatrixDisplay(confusion_matrix(y_test, pred)).plot(cmap='Blues')"
   ]
  },
  {
   "cell_type": "markdown",
   "id": "224e9793-15fd-4257-8b6c-1fe63cce99cb",
   "metadata": {},
   "source": [
    "## TWO stage"
   ]
  },
  {
   "cell_type": "code",
   "execution_count": 21,
   "id": "9e48efa1-69bc-4e65-b233-dc3ef7602581",
   "metadata": {},
   "outputs": [],
   "source": [
    "training_df, test_df = train_test_split(source_df_train2, test_size=0.2, random_state=55)"
   ]
  },
  {
   "cell_type": "markdown",
   "id": "28232580-cb97-4659-9225-34891e782b5e",
   "metadata": {},
   "source": [
    "### train"
   ]
  },
  {
   "cell_type": "code",
   "execution_count": 22,
   "id": "827ead7f-e72a-455c-be91-7f2d135c9b5c",
   "metadata": {
    "tags": []
   },
   "outputs": [],
   "source": [
    "df = training_df[['Disease category', 'wav_path']]\n",
    "df = df.reset_index()\n",
    "train_data_for_ac = SoundDS(df, data_path)\n",
    "train_data_for_ac = torch.utils.data.DataLoader(train_data_for_ac, batch_size=750, shuffle=False)\n",
    "ac_ls = inference(myModel, train_data_for_ac , mode='two_stage')\n",
    "ac_ls = ac_ls[0].tolist()"
   ]
  },
  {
   "cell_type": "code",
   "execution_count": 23,
   "id": "8aadc59b-e97f-4e89-bc58-efc59b906e77",
   "metadata": {},
   "outputs": [],
   "source": [
    "col = [i for i in training_df.columns if i not in ['ID','Disease category', 'wav_path']]\n",
    "train_data_for_med = training_df[col]\n",
    "train_y_for_med = training_df[['Disease category']]-1\n",
    "pred_ls = med_model.predict(train_data_for_med)"
   ]
  },
  {
   "cell_type": "code",
   "execution_count": 24,
   "id": "01a1437a-bf98-40f9-88c1-de19d8b92a9f",
   "metadata": {
    "tags": []
   },
   "outputs": [],
   "source": [
    "df_new = training_df\n",
    "dfac = pd.DataFrame(ac_ls, columns = ['aco_pred'])\n",
    "dfac = pd.concat([dfac, pd.DataFrame(df_new.reset_index()['index'], columns = ['index'])], axis=1)\n",
    "dfac = dfac.set_index('index')\n",
    "\n",
    "dfmd = pd.DataFrame(pred_ls, columns = ['med_pred'])\n",
    "dfmd = pd.concat([dfmd, pd.DataFrame(df_new.reset_index()['index'], columns = ['index'])], axis=1)\n",
    "dfmd = dfmd.set_index('index')\n",
    "\n",
    "import pandas as pd\n",
    "result = pd.concat([df_new, dfac , dfmd],axis=1)"
   ]
  },
  {
   "cell_type": "markdown",
   "id": "5e216697-bbfa-49fb-b522-185ee3c982a1",
   "metadata": {},
   "source": [
    "### test"
   ]
  },
  {
   "cell_type": "code",
   "execution_count": 25,
   "id": "edcbb631-6655-407c-a827-3f23724c3687",
   "metadata": {},
   "outputs": [],
   "source": [
    "df = test_df[['Disease category', 'wav_path']]\n",
    "df = df.reset_index()\n",
    "test_data_for_ac = SoundDS(df, data_path)\n",
    "test_data_for_ac = torch.utils.data.DataLoader(test_data_for_ac, batch_size=750, shuffle=False)\n",
    "ac_ls = inference(myModel, test_data_for_ac , mode='two_stage')\n",
    "ac_ls_test = ac_ls[0].tolist()"
   ]
  },
  {
   "cell_type": "code",
   "execution_count": 26,
   "id": "fade94aa-0b70-4a74-a7e1-22ecaa895ad7",
   "metadata": {},
   "outputs": [],
   "source": [
    "col = [i for i in test_df.columns if i not in ['ID','Disease category', 'wav_path']]\n",
    "test_data_for_med = test_df[col]\n",
    "test_y_for_med = test_df[['Disease category']]-1\n",
    "pred_ls_test = med_model.predict(test_data_for_med)"
   ]
  },
  {
   "cell_type": "code",
   "execution_count": 27,
   "id": "95339804-fdb3-4e20-b9c1-ef7b47cddd35",
   "metadata": {},
   "outputs": [],
   "source": [
    "df_new = test_df\n",
    "dfac = pd.DataFrame(ac_ls_test, columns = ['aco_pred'])\n",
    "dfac = pd.concat([dfac, pd.DataFrame(df_new.reset_index()['index'], columns = ['index'])], axis=1)\n",
    "dfac = dfac.set_index('index')\n",
    "\n",
    "dfmd = pd.DataFrame(pred_ls_test, columns = ['med_pred'])\n",
    "dfmd = pd.concat([dfmd, pd.DataFrame(df_new.reset_index()['index'], columns = ['index'])], axis=1)\n",
    "dfmd = dfmd.set_index('index')\n",
    "\n",
    "import pandas as pd\n",
    "result_test = pd.concat([df_new, dfac , dfmd ],axis=1)"
   ]
  },
  {
   "cell_type": "markdown",
   "id": "dedcd4d4-e3de-4db0-9719-5d16741b2af5",
   "metadata": {},
   "source": [
    "### two_stage"
   ]
  },
  {
   "cell_type": "code",
   "execution_count": 28,
   "id": "5bbcff02-d71b-42f7-a388-5c3b435d6a2f",
   "metadata": {},
   "outputs": [],
   "source": [
    "#https://ithelp.ithome.com.tw/articles/10273094\n",
    "from xgboost import XGBClassifier#n_estimators=40, learning_rate= 0.08, \n",
    "xgboostModel_twostage = XGBClassifier(n_estimators=40, learning_rate= 0.08, colsample_bytree=0.3)"
   ]
  },
  {
   "cell_type": "code",
   "execution_count": 29,
   "id": "2f5f3048-2c56-4e5e-9a7f-9accfce26843",
   "metadata": {},
   "outputs": [],
   "source": [
    "col = [i for i in result.columns if i not in ['ID','Disease category','wav_path']]\n",
    "x_train = result[col]\n",
    "y_train = result[['Disease category']]-1"
   ]
  },
  {
   "cell_type": "code",
   "execution_count": 30,
   "id": "0a52d8b1-5e8c-4c9c-a281-0e70bf9f2b23",
   "metadata": {},
   "outputs": [],
   "source": [
    "col = [i for i in result_test.columns if i not in ['ID','Disease category','wav_path']]\n",
    "x_test = result_test[col]\n",
    "y_test = result_test[['Disease category']]-1"
   ]
  },
  {
   "cell_type": "code",
   "execution_count": 31,
   "id": "8d6f5abf",
   "metadata": {},
   "outputs": [],
   "source": [
    "# sample_weight = compute_sample_weight(class_weight='balanced', y=y_train)\n",
    "# xgboostModel_twostage = xgboostModel_twostage.fit(x_train, y_train, sample_weight = sample_weight)"
   ]
  },
  {
   "cell_type": "code",
   "execution_count": 32,
   "id": "ad2f5a10-2d6f-47e9-8639-31aa5a924e15",
   "metadata": {
    "tags": []
   },
   "outputs": [],
   "source": [
    "# #https://ithelp.ithome.com.tw/m/articles/10268984\n",
    "# from sklearn.model_selection import RandomizedSearchCV\n",
    "# n_estimators = [int(x) for x in np.linspace(start=20, stop=100, num=10)]\n",
    "# max_depth = [int(x) for x in np.linspace(10, 50, num=11)]\n",
    "# max_depth.append(None)\n",
    "# learning_rate=[round(float(x),2) for x in np.linspace(start=0.01, stop=0.2, num=10)]\n",
    "# colsample_bytree =[round(float(x),2) for x in np.linspace(start=0.1, stop=1, num=10)]\n",
    "\n",
    "# random_grid = {'n_estimators': n_estimators,\n",
    "#                'max_depth': max_depth,\n",
    "#                'learning_rate': learning_rate,\n",
    "#                'colsample_bytree': colsample_bytree}\n",
    "# xg_random = RandomizedSearchCV(estimator = xgboostModel_twostage, param_distributions=random_grid,\n",
    "#                               n_iter=100, cv=5, verbose=2, random_state=42, n_jobs=-1)\n",
    "\n",
    "# xg_random.fit(x_train,y_train)\n",
    "# print(xg_random.best_params_) \n",
    "\n",
    "# from sklearn.utils.class_weight import compute_sample_weight\n",
    "# sample_weight = compute_sample_weight(class_weight='balanced', y=y_train)\n",
    "# xgboostModel_twostage = xg_random.best_estimator_\n",
    "# xgboostModel_twostage = xgboostModel_twostage.fit(x_train, y_train, sample_weight = sample_weight)"
   ]
  },
  {
   "cell_type": "code",
   "execution_count": 33,
   "id": "564e87b2",
   "metadata": {},
   "outputs": [
    {
     "name": "stdout",
     "output_type": "stream",
     "text": [
      "Fitting 5 folds for each of 100 candidates, totalling 500 fits\n",
      "{'n_estimators': 36, 'max_depth': 12, 'learning_rate': 0.28, 'colsample_bytree': 0.1}\n"
     ]
    }
   ],
   "source": [
    "from sklearn.model_selection import RandomizedSearchCV\n",
    "n_estimators = [int(x) for x in np.linspace(start=20, stop=100, num=20)]\n",
    "max_depth = [int(x) for x in np.linspace(4, 20, num=7)]\n",
    "max_depth.append(None)\n",
    "learning_rate=[round(float(x),2) for x in np.linspace(start=0.05, stop=0.35, num=10)]\n",
    "colsample_bytree =[round(float(x),2) for x in np.linspace(start=0.1, stop=1, num=10)]\n",
    "\n",
    "random_grid = {'n_estimators': n_estimators,\n",
    "               'max_depth': max_depth,\n",
    "               'learning_rate': learning_rate,\n",
    "               'colsample_bytree': colsample_bytree}\n",
    "xg_random = RandomizedSearchCV(estimator = xgboostModel_twostage, param_distributions=random_grid,\n",
    "                              n_iter=100, cv=5, verbose=2, random_state=42, n_jobs=-1)\n",
    "\n",
    "xg_random.fit(x_train,y_train)\n",
    "print(xg_random.best_params_) \n",
    "\n",
    "from sklearn.utils.class_weight import compute_sample_weight\n",
    "sample_weight = compute_sample_weight(class_weight='balanced', y=y_train)\n",
    "xgboostModel_twostage = xg_random.best_estimator_\n",
    "xgboostModel_twostage = xgboostModel_twostage.fit(x_train, y_train, sample_weight = sample_weight)"
   ]
  },
  {
   "cell_type": "code",
   "execution_count": 34,
   "id": "5442cbe8",
   "metadata": {},
   "outputs": [],
   "source": [
    "# print(xg_random.best_params_)"
   ]
  },
  {
   "cell_type": "code",
   "execution_count": 35,
   "id": "20ea7d28-8b77-4ac8-a6f8-30306b73cf56",
   "metadata": {},
   "outputs": [
    {
     "name": "stdout",
     "output_type": "stream",
     "text": [
      "Training UAR(Unweighted Average Recall) : 0.8693848437227171\n",
      "Testing UAR(Unweighted Average Recall) : 0.6033799533799533\n"
     ]
    },
    {
     "data": {
      "image/png": "[encoded data removed]",
      "text/plain": [
       "<Figure size 640x480 with 2 Axes>"
      ]
     },
     "metadata": {},
     "output_type": "display_data"
    },
    {
     "data": {
      "image/png": "[encoded data removed]",
      "text/plain": [
       "<Figure size 640x480 with 2 Axes>"
      ]
     },
     "metadata": {},
     "output_type": "display_data"
    }
   ],
   "source": [
    "# print('train: ',xgboostModel_twostage.score(x_train, y_train))\n",
    "pred = xgboostModel_twostage.predict(x_train)\n",
    "ConfusionMatrixDisplay(confusion_matrix(y_train, pred)).plot(cmap='Blues')\n",
    "results_recall = recall_score(y_train, pred, average=None)\n",
    "print(\"Training UAR(Unweighted Average Recall) :\", results_recall.mean())\n",
    "\n",
    "# print('test: ',xgboostModel_twostage.score(x_test, y_test))\n",
    "pred = xgboostModel_twostage.predict(x_test)\n",
    "ConfusionMatrixDisplay(confusion_matrix(y_test, pred)).plot(cmap='Blues')\n",
    "results_recall = recall_score(y_test, pred, average=None)\n",
    "print(\"Testing UAR(Unweighted Average Recall) :\", results_recall.mean())"
   ]
  },
  {
   "cell_type": "code",
   "execution_count": 36,
   "id": "008f1b7c",
   "metadata": {},
   "outputs": [
    {
     "data": {
      "text/plain": [
       "Counter({0: 50, 3: 7, 2: 32, 4: 3, 1: 28})"
      ]
     },
     "execution_count": 36,
     "metadata": {},
     "output_type": "execute_result"
    }
   ],
   "source": [
    "from collections import Counter\n",
    "Counter(pred)"
   ]
  },
  {
   "cell_type": "markdown",
   "id": "dd2d2508-9e02-4485-b645-18455450d325",
   "metadata": {},
   "source": [
    "## xgboost public"
   ]
  },
  {
   "cell_type": "code",
   "execution_count": 39,
   "id": "64dc54a8-2872-4da8-a525-780e8b17234c",
   "metadata": {},
   "outputs": [],
   "source": [
    "import numpy as np\n",
    "def inference2(model, val_dl): \n",
    "    correct_prediction = 0 \n",
    "    total_prediction = 0 \n",
    "    ls = []\n",
    "    # Disable gradient updates \n",
    "    with torch.no_grad(): \n",
    "        for data in val_dl: \n",
    "            # Get the input features and target labels, and put them on the GPU \n",
    "            inputs = data\n",
    "\n",
    "            # Normalize the inputs \n",
    "            inputs_m, inputs_s = inputs.mean(), inputs.std() \n",
    "            inputs = (inputs - inputs_m) / inputs_s \n",
    "\n",
    "            # Get predictions \n",
    "            # print(inputs)\n",
    "            outputs = model(inputs) \n",
    "\n",
    "            # Get the predicted class with the highest score \n",
    "            _, prediction = torch.max(outputs,1) \n",
    "            p = prediction.tolist()\n",
    "            ls.append(prediction)\n",
    "            return ls\n",
    "    # Run inference on trained model with the validation set "
   ]
  },
  {
   "cell_type": "code",
   "execution_count": 40,
   "id": "537674e2-eea0-44f7-a771-66f01ce376e5",
   "metadata": {},
   "outputs": [],
   "source": [
    "# 讀取訓練資料集表單\n",
    "public_df = pd.read_csv('Public Testing Dataset/test_datalist_public.csv')\n",
    "public_df['wav_path'] = public_df['ID'].map(\"Public Testing Dataset/test_data_public/{}.wav\".format)"
   ]
  },
  {
   "cell_type": "code",
   "execution_count": 41,
   "id": "63d11562-000f-41f5-8eb0-645b222fd52d",
   "metadata": {},
   "outputs": [],
   "source": [
    "df = public_df[['wav_path']]\n",
    "df = df.reset_index()\n",
    "train_data_for_ac = SoundDS(df, data_path, mode='public')\n",
    "train_data_for_ac = torch.utils.data.DataLoader(train_data_for_ac, batch_size=750, shuffle=False)\n",
    "ac_ls = inference2(myModel, train_data_for_ac)\n",
    "ac_ls = ac_ls[0].tolist()\n",
    "\n",
    "col = [i for i in public_df.columns if i not in ['ID', 'wav_path']]\n",
    "test_data_for_med = public_df[col]\n",
    "pred_ls = med_model.predict(test_data_for_med)"
   ]
  },
  {
   "cell_type": "code",
   "execution_count": 42,
   "id": "fbb5e3fd-e24f-42bd-9728-6ca9fe22b3b0",
   "metadata": {},
   "outputs": [],
   "source": [
    "df_new = public_df\n",
    "dfac = pd.DataFrame(ac_ls, columns = ['aco_pred'])\n",
    "dfmd = pd.DataFrame(pred_ls, columns = ['med_pred'])\n",
    "\n",
    "import pandas as pd\n",
    "result = pd.concat([df_new, dfac , dfmd ],axis=1)"
   ]
  },
  {
   "cell_type": "code",
   "execution_count": 43,
   "id": "d5f3bb3e-37b4-4e54-8709-92d14497f075",
   "metadata": {},
   "outputs": [],
   "source": [
    "col = [i for i in result.columns if i not in ['ID','Disease category','wav_path']]\n",
    "x_train = result[col]"
   ]
  },
  {
   "cell_type": "code",
   "execution_count": 44,
   "id": "5c9ba967-1361-4ad7-8c2b-69202e519e26",
   "metadata": {},
   "outputs": [],
   "source": [
    "pred = xgboostModel_twostage.predict(x_train)"
   ]
  },
  {
   "cell_type": "code",
   "execution_count": 45,
   "id": "67c6fd06-9b1b-481e-af8a-cd06bc9060c9",
   "metadata": {
    "tags": []
   },
   "outputs": [],
   "source": [
    "category = pred+1\n",
    "idn = public_df['ID']\n",
    "dfc = pd.DataFrame(idn, columns = ['ID'])\n",
    "import pandas as pd\n",
    "result = pd.concat([dfc, pd.DataFrame(category, columns = ['Category'])], axis=1)\n",
    "result.to_csv('out5.csv', index=False)"
   ]
  },
  {
   "cell_type": "markdown",
   "id": "b72cb196-314d-4e9e-9fdd-1b7899f7b31c",
   "metadata": {},
   "source": [
    "## private"
   ]
  },
  {
   "cell_type": "code",
   "execution_count": 47,
   "id": "22b8d663-311b-4955-8090-0905415a8da8",
   "metadata": {},
   "outputs": [],
   "source": [
    "private_df = pd.read_csv('Private Testing Dataset/test_datalist_private.csv')\n",
    "private_df['wav_path'] = private_df['ID'].map(\"Private Testing Dataset/test_data_private/{}.wav\".format)"
   ]
  },
  {
   "cell_type": "code",
   "execution_count": 48,
   "id": "36e94c4a-f1a5-4997-b41c-1d860acdd93c",
   "metadata": {},
   "outputs": [],
   "source": [
    "df1 = private_df[['wav_path']]\n",
    "df1 = df1.reset_index()\n",
    "train_data_for_ac1 = SoundDS(df1, data_path, mode='private')\n",
    "train_data_for_ac1 = torch.utils.data.DataLoader(train_data_for_ac1, batch_size=750, shuffle=False)\n",
    "ac_ls1 = inference2(myModel, train_data_for_ac1)\n",
    "ac_ls1 = ac_ls1[0].tolist()\n",
    "\n",
    "col1 = [i for i in private_df.columns if i not in ['ID', 'wav_path']]\n",
    "test_data_for_med1 = private_df[col1]\n",
    "pred_ls1 = med_model.predict(test_data_for_med1)"
   ]
  },
  {
   "cell_type": "code",
   "execution_count": 49,
   "id": "7029551d-8492-4baa-b2eb-666bc8339557",
   "metadata": {},
   "outputs": [],
   "source": [
    "df_new1 = private_df\n",
    "dfac1 = pd.DataFrame(ac_ls1, columns = ['aco_pred'])\n",
    "dfmd1 = pd.DataFrame(pred_ls1, columns = ['med_pred'])\n",
    "\n",
    "import pandas as pd\n",
    "result1= pd.concat([df_new1, dfac1 , dfmd1 ],axis=1)"
   ]
  },
  {
   "cell_type": "code",
   "execution_count": 50,
   "id": "74508d73-89a1-47f0-94cb-7c08e7d197e4",
   "metadata": {},
   "outputs": [],
   "source": [
    "col1 = [i for i in result1.columns if i not in ['ID','Disease category','wav_path']]\n",
    "x_train1 = result1[col1]"
   ]
  },
  {
   "cell_type": "code",
   "execution_count": 51,
   "id": "25e9b812-6600-4c4e-b0dc-329ff514fea3",
   "metadata": {},
   "outputs": [],
   "source": [
    "pred1 = xgboostModel_twostage.predict(x_train1)"
   ]
  },
  {
   "cell_type": "code",
   "execution_count": 52,
   "id": "fc70168e-2b2b-45c6-9b8d-5fb487c555f8",
   "metadata": {},
   "outputs": [],
   "source": [
    "category1 = pred1+1\n",
    "idn1 = private_df['ID']\n",
    "dfc1 = pd.DataFrame(idn1, columns = ['ID'])\n",
    "import pandas as pd\n",
    "result1 = pd.concat([dfc1, pd.DataFrame(category1, columns = ['Category'])], axis=1)\n",
    "# result.to_csv('out5.csv', index=False)"
   ]
  },
  {
   "cell_type": "code",
   "execution_count": 53,
   "id": "25b6b9a5-be93-4bf2-8b90-cf167efda562",
   "metadata": {},
   "outputs": [
    {
     "data": {
      "text/html": [
       "<div>\n",
       "<style scoped>\n",
       "    .dataframe tbody tr th:only-of-type {\n",
       "        vertical-align: middle;\n",
       "    }\n",
       "\n",
       "    .dataframe tbody tr th {\n",
       "        vertical-align: top;\n",
       "    }\n",
       "\n",
       "    .dataframe thead th {\n",
       "        text-align: right;\n",
       "    }\n",
       "</style>\n",
       "<table border=\"1\" class=\"dataframe\">\n",
       "  <thead>\n",
       "    <tr style=\"text-align: right;\">\n",
       "      <th></th>\n",
       "      <th>ID</th>\n",
       "      <th>Category</th>\n",
       "    </tr>\n",
       "  </thead>\n",
       "  <tbody>\n",
       "    <tr>\n",
       "      <th>0</th>\n",
       "      <td>0U02g8u</td>\n",
       "      <td>2</td>\n",
       "    </tr>\n",
       "    <tr>\n",
       "      <th>1</th>\n",
       "      <td>0Y00jid</td>\n",
       "      <td>4</td>\n",
       "    </tr>\n",
       "    <tr>\n",
       "      <th>2</th>\n",
       "      <td>0R02296</td>\n",
       "      <td>4</td>\n",
       "    </tr>\n",
       "    <tr>\n",
       "      <th>3</th>\n",
       "      <td>0W016c9</td>\n",
       "      <td>4</td>\n",
       "    </tr>\n",
       "    <tr>\n",
       "      <th>4</th>\n",
       "      <td>11006gd</td>\n",
       "      <td>3</td>\n",
       "    </tr>\n",
       "    <tr>\n",
       "      <th>...</th>\n",
       "      <td>...</td>\n",
       "      <td>...</td>\n",
       "    </tr>\n",
       "    <tr>\n",
       "      <th>495</th>\n",
       "      <td>1001abu</td>\n",
       "      <td>1</td>\n",
       "    </tr>\n",
       "    <tr>\n",
       "      <th>496</th>\n",
       "      <td>1002ss4</td>\n",
       "      <td>3</td>\n",
       "    </tr>\n",
       "    <tr>\n",
       "      <th>497</th>\n",
       "      <td>0W011bi</td>\n",
       "      <td>1</td>\n",
       "    </tr>\n",
       "    <tr>\n",
       "      <th>498</th>\n",
       "      <td>0R00num</td>\n",
       "      <td>3</td>\n",
       "    </tr>\n",
       "    <tr>\n",
       "      <th>499</th>\n",
       "      <td>0Y02gae</td>\n",
       "      <td>1</td>\n",
       "    </tr>\n",
       "  </tbody>\n",
       "</table>\n",
       "<p>500 rows × 2 columns</p>\n",
       "</div>"
      ],
      "text/plain": [
       "          ID  Category\n",
       "0    0U02g8u         2\n",
       "1    0Y00jid         4\n",
       "2    0R02296         4\n",
       "3    0W016c9         4\n",
       "4    11006gd         3\n",
       "..       ...       ...\n",
       "495  1001abu         1\n",
       "496  1002ss4         3\n",
       "497  0W011bi         1\n",
       "498  0R00num         3\n",
       "499  0Y02gae         1\n",
       "\n",
       "[500 rows x 2 columns]"
      ]
     },
     "execution_count": 53,
     "metadata": {},
     "output_type": "execute_result"
    }
   ],
   "source": [
    "result1"
   ]
  },
  {
   "cell_type": "code",
   "execution_count": 54,
   "id": "6a1fe054-7243-40ba-914a-2ccc83c67828",
   "metadata": {},
   "outputs": [
    {
     "data": {
      "text/html": [
       "<div>\n",
       "<style scoped>\n",
       "    .dataframe tbody tr th:only-of-type {\n",
       "        vertical-align: middle;\n",
       "    }\n",
       "\n",
       "    .dataframe tbody tr th {\n",
       "        vertical-align: top;\n",
       "    }\n",
       "\n",
       "    .dataframe thead th {\n",
       "        text-align: right;\n",
       "    }\n",
       "</style>\n",
       "<table border=\"1\" class=\"dataframe\">\n",
       "  <thead>\n",
       "    <tr style=\"text-align: right;\">\n",
       "      <th></th>\n",
       "      <th>ID</th>\n",
       "      <th>Category</th>\n",
       "    </tr>\n",
       "  </thead>\n",
       "  <tbody>\n",
       "    <tr>\n",
       "      <th>0</th>\n",
       "      <td>1301skj</td>\n",
       "      <td>1</td>\n",
       "    </tr>\n",
       "    <tr>\n",
       "      <th>1</th>\n",
       "      <td>1100j0u</td>\n",
       "      <td>4</td>\n",
       "    </tr>\n",
       "    <tr>\n",
       "      <th>2</th>\n",
       "      <td>0G00r5c</td>\n",
       "      <td>3</td>\n",
       "    </tr>\n",
       "    <tr>\n",
       "      <th>3</th>\n",
       "      <td>1202v5m</td>\n",
       "      <td>1</td>\n",
       "    </tr>\n",
       "    <tr>\n",
       "      <th>4</th>\n",
       "      <td>0C01365</td>\n",
       "      <td>3</td>\n",
       "    </tr>\n",
       "    <tr>\n",
       "      <th>...</th>\n",
       "      <td>...</td>\n",
       "      <td>...</td>\n",
       "    </tr>\n",
       "    <tr>\n",
       "      <th>995</th>\n",
       "      <td>1001abu</td>\n",
       "      <td>1</td>\n",
       "    </tr>\n",
       "    <tr>\n",
       "      <th>996</th>\n",
       "      <td>1002ss4</td>\n",
       "      <td>3</td>\n",
       "    </tr>\n",
       "    <tr>\n",
       "      <th>997</th>\n",
       "      <td>0W011bi</td>\n",
       "      <td>1</td>\n",
       "    </tr>\n",
       "    <tr>\n",
       "      <th>998</th>\n",
       "      <td>0R00num</td>\n",
       "      <td>3</td>\n",
       "    </tr>\n",
       "    <tr>\n",
       "      <th>999</th>\n",
       "      <td>0Y02gae</td>\n",
       "      <td>1</td>\n",
       "    </tr>\n",
       "  </tbody>\n",
       "</table>\n",
       "<p>1000 rows × 2 columns</p>\n",
       "</div>"
      ],
      "text/plain": [
       "          ID  Category\n",
       "0    1301skj         1\n",
       "1    1100j0u         4\n",
       "2    0G00r5c         3\n",
       "3    1202v5m         1\n",
       "4    0C01365         3\n",
       "..       ...       ...\n",
       "995  1001abu         1\n",
       "996  1002ss4         3\n",
       "997  0W011bi         1\n",
       "998  0R00num         3\n",
       "999  0Y02gae         1\n",
       "\n",
       "[1000 rows x 2 columns]"
      ]
     },
     "execution_count": 54,
     "metadata": {},
     "output_type": "execute_result"
    }
   ],
   "source": [
    "result2=pd.concat([result,result1],axis=0, ignore_index=True)\n",
    "result2"
   ]
  },
  {
   "cell_type": "code",
   "execution_count": 55,
   "id": "db7e7c0f-4fb2-43db-aadd-3a4ab8391287",
   "metadata": {},
   "outputs": [],
   "source": [
    "result2.to_csv('two_stage_pub_pri_test5.csv', index=False)"
   ]
  },
  {
   "cell_type": "code",
   "execution_count": 56,
   "id": "77e1f0fc-f26e-49b8-bc3f-7199727e3430",
   "metadata": {},
   "outputs": [
    {
     "data": {
      "text/plain": [
       "Counter({1: 475, 4: 95, 3: 208, 2: 200, 5: 22})"
      ]
     },
     "execution_count": 56,
     "metadata": {},
     "output_type": "execute_result"
    }
   ],
   "source": [
    "from collections import Counter\n",
    "Counter(result2['Category'])"
   ]
  }
 ],
 "metadata": {
  "kernelspec": {
   "display_name": "py39-venv",
   "language": "python",
   "name": "py39-venv"
  },
  "language_info": {
   "codemirror_mode": {
    "name": "ipython",
    "version": 3
   },
   "file_extension": ".py",
   "mimetype": "text/x-python",
   "name": "python",
   "nbconvert_exporter": "python",
   "pygments_lexer": "ipython3",
   "version": "3.9.16"
  }
 },
 "nbformat": 4,
 "nbformat_minor": 5
}
